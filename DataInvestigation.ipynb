{
  "nbformat": 4,
  "nbformat_minor": 0,
  "metadata": {
    "colab": {
      "name": "DataInvestigation.ipynb",
      "provenance": [],
      "authorship_tag": "ABX9TyM+7fMeCEP+z5pwW36dYuv0",
      "include_colab_link": true
    },
    "kernelspec": {
      "name": "python3",
      "display_name": "Python 3"
    },
    "language_info": {
      "name": "python"
    }
  },
  "cells": [
    {
      "cell_type": "markdown",
      "metadata": {
        "id": "view-in-github",
        "colab_type": "text"
      },
      "source": [
        "<a href=\"https://colab.research.google.com/github/BenBowring/EnergyData/blob/main/DataInvestigation.ipynb\" target=\"_parent\"><img src=\"https://colab.research.google.com/assets/colab-badge.svg\" alt=\"Open In Colab\"/></a>"
      ]
    },
    {
      "cell_type": "code",
      "execution_count": 185,
      "metadata": {
        "id": "QB3nNbWTPVXt"
      },
      "outputs": [],
      "source": [
        "!pip install -U -q PyDrive"
      ]
    },
    {
      "cell_type": "code",
      "source": [
        "from pydrive.auth import GoogleAuth\n",
        "from pydrive.drive import GoogleDrive\n",
        "from google.colab import auth\n",
        "from oauth2client.client import GoogleCredentials"
      ],
      "metadata": {
        "id": "qQsIWo0PPYm_"
      },
      "execution_count": 186,
      "outputs": []
    },
    {
      "cell_type": "code",
      "source": [
        "auth.authenticate_user()\n",
        "gauth = GoogleAuth()\n",
        "gauth.credentials = GoogleCredentials.get_application_default()\n",
        "drive = GoogleDrive(gauth)"
      ],
      "metadata": {
        "id": "mQm0SGEePbxH"
      },
      "execution_count": 187,
      "outputs": []
    },
    {
      "cell_type": "code",
      "source": [
        "transacts = drive.CreateFile({'id': '1MPuNhnaCwBdQa4E941TiWvBLX9z74QxN'})\n",
        "transacts.GetContentFile('transact_data.csv')"
      ],
      "metadata": {
        "id": "fHBOfDZZQ07J"
      },
      "execution_count": 188,
      "outputs": []
    },
    {
      "cell_type": "code",
      "source": [
        "mapped_installs = drive.CreateFile({'id': '1vtTG0o8Sfa4S1zwsDQZPjsaY1KYnIhp_'})\n",
        "mapped_installs.GetContentFile('JanCompTrimmed.xlsx')"
      ],
      "metadata": {
        "id": "ARtuGYqtPdSb"
      },
      "execution_count": 189,
      "outputs": []
    },
    {
      "cell_type": "code",
      "source": [
        "full_installs = drive.CreateFile({'id': '1H9osyBVtiS7oMKQP1Mo0guM6lSoxC262'})\n",
        "full_installs.GetContentFile('AccCompliance.xlsx')"
      ],
      "metadata": {
        "id": "Bfg8oYQKRSuf"
      },
      "execution_count": 190,
      "outputs": []
    },
    {
      "cell_type": "code",
      "source": [
        "import pandas as pd\n",
        "import seaborn as sns\n",
        "import matplotlib.pyplot as plt\n",
        "\n",
        "plt.style.use('fivethirtyeight')"
      ],
      "metadata": {
        "id": "ywECNvv2RUFS"
      },
      "execution_count": 191,
      "outputs": []
    },
    {
      "cell_type": "code",
      "source": [
        "transact_df = pd.read_csv('transact_data.csv')"
      ],
      "metadata": {
        "colab": {
          "base_uri": "https://localhost:8080/"
        },
        "id": "-UT8k_bLRvTu",
        "outputId": "c8d3af1e-893c-49ee-b6dd-979962fc2a6c"
      },
      "execution_count": 192,
      "outputs": [
        {
          "output_type": "stream",
          "name": "stderr",
          "text": [
            "/usr/local/lib/python3.7/dist-packages/IPython/core/interactiveshell.py:2882: DtypeWarning: Columns (15,17,18,19,21,22,23,24,25,26,27,28,43,44,45,47,48,49,50,51,52,53,54,58,60,63) have mixed types.Specify dtype option on import or set low_memory=False.\n",
            "  exec(code_obj, self.user_global_ns, self.user_ns)\n"
          ]
        }
      ]
    },
    {
      "cell_type": "code",
      "source": [
        "mapped_df = pd.read_excel('JanCompTrimmed.xlsx')\n",
        "installs_df = pd.read_excel('AccCompliance.xlsx')"
      ],
      "metadata": {
        "id": "y6Y0S7_sR0oy"
      },
      "execution_count": 193,
      "outputs": []
    },
    {
      "cell_type": "code",
      "source": [
        "counts = mapped_df.groupby('Company name').agg({'ICIS-ID': 'count'}).sort_values('ICIS-ID', ascending = False)\n",
        "\n",
        "kept_cols = ['Installation ID', 'Installation name', 'Country code',\n",
        "               'Permit identifier', 'Activity code', 'Nace code', 'Installation city',\n",
        "               'Account  holder name', 'Company activity', 'TS status',\n",
        "               'Installation address 1', 'Installation ZIP',\n",
        "               'Installation city.1']\n",
        "\n",
        "dropped_cols = [x for x in mapped_df.columns if x not in kept_cols]\n",
        "\n",
        "name_cols = ['Name 1', 'Name 2', 'Name 3']\n"
      ],
      "metadata": {
        "id": "ooO3HnN9UjjV"
      },
      "execution_count": 237,
      "outputs": []
    },
    {
      "cell_type": "code",
      "source": [
        "counts[counts['ICIS-ID'] == 5]"
      ],
      "metadata": {
        "colab": {
          "base_uri": "https://localhost:8080/",
          "height": 455
        },
        "id": "l21vY9yvwZAS",
        "outputId": "25095b2d-ef91-49aa-e8cf-a62270231142"
      },
      "execution_count": 236,
      "outputs": [
        {
          "output_type": "execute_result",
          "data": {
            "text/plain": [
              "               ICIS-ID  paid_in  paid_out\n",
              "Company name                             \n",
              "Rekeep s.p.a.        5      NaN       NaN\n",
              "Dairy crest          5      NaN       NaN\n",
              "Mazarron             5      NaN       NaN\n",
              "EUROCHEM             5      NaN       NaN\n",
              "Galbani              5      NaN       NaN\n",
              "...                ...      ...       ...\n",
              "V.E.A.K. S.A.        5      NaN       NaN\n",
              "Enegi Fyns           5      NaN       NaN\n",
              "Enea S.A.            5      NaN       NaN\n",
              "Cimpor               5      NaN       NaN\n",
              "Nav                  5      NaN       NaN\n",
              "\n",
              "[134 rows x 3 columns]"
            ],
            "text/html": [
              "\n",
              "  <div id=\"df-3bec96b6-a395-4344-9ca7-ed0d93185b72\">\n",
              "    <div class=\"colab-df-container\">\n",
              "      <div>\n",
              "<style scoped>\n",
              "    .dataframe tbody tr th:only-of-type {\n",
              "        vertical-align: middle;\n",
              "    }\n",
              "\n",
              "    .dataframe tbody tr th {\n",
              "        vertical-align: top;\n",
              "    }\n",
              "\n",
              "    .dataframe thead th {\n",
              "        text-align: right;\n",
              "    }\n",
              "</style>\n",
              "<table border=\"1\" class=\"dataframe\">\n",
              "  <thead>\n",
              "    <tr style=\"text-align: right;\">\n",
              "      <th></th>\n",
              "      <th>ICIS-ID</th>\n",
              "      <th>paid_in</th>\n",
              "      <th>paid_out</th>\n",
              "    </tr>\n",
              "    <tr>\n",
              "      <th>Company name</th>\n",
              "      <th></th>\n",
              "      <th></th>\n",
              "      <th></th>\n",
              "    </tr>\n",
              "  </thead>\n",
              "  <tbody>\n",
              "    <tr>\n",
              "      <th>Rekeep s.p.a.</th>\n",
              "      <td>5</td>\n",
              "      <td>NaN</td>\n",
              "      <td>NaN</td>\n",
              "    </tr>\n",
              "    <tr>\n",
              "      <th>Dairy crest</th>\n",
              "      <td>5</td>\n",
              "      <td>NaN</td>\n",
              "      <td>NaN</td>\n",
              "    </tr>\n",
              "    <tr>\n",
              "      <th>Mazarron</th>\n",
              "      <td>5</td>\n",
              "      <td>NaN</td>\n",
              "      <td>NaN</td>\n",
              "    </tr>\n",
              "    <tr>\n",
              "      <th>EUROCHEM</th>\n",
              "      <td>5</td>\n",
              "      <td>NaN</td>\n",
              "      <td>NaN</td>\n",
              "    </tr>\n",
              "    <tr>\n",
              "      <th>Galbani</th>\n",
              "      <td>5</td>\n",
              "      <td>NaN</td>\n",
              "      <td>NaN</td>\n",
              "    </tr>\n",
              "    <tr>\n",
              "      <th>...</th>\n",
              "      <td>...</td>\n",
              "      <td>...</td>\n",
              "      <td>...</td>\n",
              "    </tr>\n",
              "    <tr>\n",
              "      <th>V.E.A.K. S.A.</th>\n",
              "      <td>5</td>\n",
              "      <td>NaN</td>\n",
              "      <td>NaN</td>\n",
              "    </tr>\n",
              "    <tr>\n",
              "      <th>Enegi Fyns</th>\n",
              "      <td>5</td>\n",
              "      <td>NaN</td>\n",
              "      <td>NaN</td>\n",
              "    </tr>\n",
              "    <tr>\n",
              "      <th>Enea S.A.</th>\n",
              "      <td>5</td>\n",
              "      <td>NaN</td>\n",
              "      <td>NaN</td>\n",
              "    </tr>\n",
              "    <tr>\n",
              "      <th>Cimpor</th>\n",
              "      <td>5</td>\n",
              "      <td>NaN</td>\n",
              "      <td>NaN</td>\n",
              "    </tr>\n",
              "    <tr>\n",
              "      <th>Nav</th>\n",
              "      <td>5</td>\n",
              "      <td>NaN</td>\n",
              "      <td>NaN</td>\n",
              "    </tr>\n",
              "  </tbody>\n",
              "</table>\n",
              "<p>134 rows × 3 columns</p>\n",
              "</div>\n",
              "      <button class=\"colab-df-convert\" onclick=\"convertToInteractive('df-3bec96b6-a395-4344-9ca7-ed0d93185b72')\"\n",
              "              title=\"Convert this dataframe to an interactive table.\"\n",
              "              style=\"display:none;\">\n",
              "        \n",
              "  <svg xmlns=\"http://www.w3.org/2000/svg\" height=\"24px\"viewBox=\"0 0 24 24\"\n",
              "       width=\"24px\">\n",
              "    <path d=\"M0 0h24v24H0V0z\" fill=\"none\"/>\n",
              "    <path d=\"M18.56 5.44l.94 2.06.94-2.06 2.06-.94-2.06-.94-.94-2.06-.94 2.06-2.06.94zm-11 1L8.5 8.5l.94-2.06 2.06-.94-2.06-.94L8.5 2.5l-.94 2.06-2.06.94zm10 10l.94 2.06.94-2.06 2.06-.94-2.06-.94-.94-2.06-.94 2.06-2.06.94z\"/><path d=\"M17.41 7.96l-1.37-1.37c-.4-.4-.92-.59-1.43-.59-.52 0-1.04.2-1.43.59L10.3 9.45l-7.72 7.72c-.78.78-.78 2.05 0 2.83L4 21.41c.39.39.9.59 1.41.59.51 0 1.02-.2 1.41-.59l7.78-7.78 2.81-2.81c.8-.78.8-2.07 0-2.86zM5.41 20L4 18.59l7.72-7.72 1.47 1.35L5.41 20z\"/>\n",
              "  </svg>\n",
              "      </button>\n",
              "      \n",
              "  <style>\n",
              "    .colab-df-container {\n",
              "      display:flex;\n",
              "      flex-wrap:wrap;\n",
              "      gap: 12px;\n",
              "    }\n",
              "\n",
              "    .colab-df-convert {\n",
              "      background-color: #E8F0FE;\n",
              "      border: none;\n",
              "      border-radius: 50%;\n",
              "      cursor: pointer;\n",
              "      display: none;\n",
              "      fill: #1967D2;\n",
              "      height: 32px;\n",
              "      padding: 0 0 0 0;\n",
              "      width: 32px;\n",
              "    }\n",
              "\n",
              "    .colab-df-convert:hover {\n",
              "      background-color: #E2EBFA;\n",
              "      box-shadow: 0px 1px 2px rgba(60, 64, 67, 0.3), 0px 1px 3px 1px rgba(60, 64, 67, 0.15);\n",
              "      fill: #174EA6;\n",
              "    }\n",
              "\n",
              "    [theme=dark] .colab-df-convert {\n",
              "      background-color: #3B4455;\n",
              "      fill: #D2E3FC;\n",
              "    }\n",
              "\n",
              "    [theme=dark] .colab-df-convert:hover {\n",
              "      background-color: #434B5C;\n",
              "      box-shadow: 0px 1px 3px 1px rgba(0, 0, 0, 0.15);\n",
              "      filter: drop-shadow(0px 1px 2px rgba(0, 0, 0, 0.3));\n",
              "      fill: #FFFFFF;\n",
              "    }\n",
              "  </style>\n",
              "\n",
              "      <script>\n",
              "        const buttonEl =\n",
              "          document.querySelector('#df-3bec96b6-a395-4344-9ca7-ed0d93185b72 button.colab-df-convert');\n",
              "        buttonEl.style.display =\n",
              "          google.colab.kernel.accessAllowed ? 'block' : 'none';\n",
              "\n",
              "        async function convertToInteractive(key) {\n",
              "          const element = document.querySelector('#df-3bec96b6-a395-4344-9ca7-ed0d93185b72');\n",
              "          const dataTable =\n",
              "            await google.colab.kernel.invokeFunction('convertToInteractive',\n",
              "                                                     [key], {});\n",
              "          if (!dataTable) return;\n",
              "\n",
              "          const docLinkHtml = 'Like what you see? Visit the ' +\n",
              "            '<a target=\"_blank\" href=https://colab.research.google.com/notebooks/data_table.ipynb>data table notebook</a>'\n",
              "            + ' to learn more about interactive tables.';\n",
              "          element.innerHTML = '';\n",
              "          dataTable['output_type'] = 'display_data';\n",
              "          await google.colab.output.renderOutput(dataTable, element);\n",
              "          const docLink = document.createElement('div');\n",
              "          docLink.innerHTML = docLinkHtml;\n",
              "          element.appendChild(docLink);\n",
              "        }\n",
              "      </script>\n",
              "    </div>\n",
              "  </div>\n",
              "  "
            ]
          },
          "metadata": {},
          "execution_count": 236
        }
      ]
    },
    {
      "cell_type": "code",
      "source": [
        "sns.distplot(counts[counts['ICIS-ID'] > 5])"
      ],
      "metadata": {
        "colab": {
          "base_uri": "https://localhost:8080/",
          "height": 355
        },
        "id": "7zxOOSzZtvNe",
        "outputId": "f80dcce7-d85b-45dd-ef27-571737f9ffa4"
      },
      "execution_count": 196,
      "outputs": [
        {
          "output_type": "stream",
          "name": "stderr",
          "text": [
            "/usr/local/lib/python3.7/dist-packages/seaborn/distributions.py:2619: FutureWarning: `distplot` is a deprecated function and will be removed in a future version. Please adapt your code to use either `displot` (a figure-level function with similar flexibility) or `histplot` (an axes-level function for histograms).\n",
            "  warnings.warn(msg, FutureWarning)\n"
          ]
        },
        {
          "output_type": "execute_result",
          "data": {
            "text/plain": [
              "<matplotlib.axes._subplots.AxesSubplot at 0x7f2fce1b10d0>"
            ]
          },
          "metadata": {},
          "execution_count": 196
        },
        {
          "output_type": "display_data",
          "data": {
            "text/plain": [
              "<Figure size 432x288 with 1 Axes>"
            ],
            "image/png": "[encoded data removed]"
          },
          "metadata": {}
        }
      ]
    },
    {
      "cell_type": "code",
      "source": [
        "country_dist = mapped_df.groupby('Country code').agg({'ICIS-ID': 'count'}).sort_values('ICIS-ID', ascending = False)\n",
        "country_dist.plot(kind = 'bar')"
      ],
      "metadata": {
        "colab": {
          "base_uri": "https://localhost:8080/",
          "height": 329
        },
        "id": "pRvP31lRtxA2",
        "outputId": "c49d211e-c2aa-4c19-fe53-f0a171ce0b25"
      },
      "execution_count": 197,
      "outputs": [
        {
          "output_type": "execute_result",
          "data": {
            "text/plain": [
              "<matplotlib.axes._subplots.AxesSubplot at 0x7f2fd04aee10>"
            ]
          },
          "metadata": {},
          "execution_count": 197
        },
        {
          "output_type": "display_data",
          "data": {
            "text/plain": [
              "<Figure size 432x288 with 1 Axes>"
            ],
            "image/png": "[encoded data removed]"
          },
          "metadata": {}
        }
      ]
    },
    {
      "cell_type": "code",
      "source": [
        "activity_dist = mapped_df.groupby('Activity code').agg({'ICIS-ID': 'count'}).sort_values('ICIS-ID', ascending = False)\n",
        "activity_dist.plot(kind = 'bar')"
      ],
      "metadata": {
        "colab": {
          "base_uri": "https://localhost:8080/",
          "height": 339
        },
        "id": "QEgjBIbLuGaZ",
        "outputId": "bcf0d3ac-304f-430a-8eb2-498bd1a4865b"
      },
      "execution_count": 198,
      "outputs": [
        {
          "output_type": "execute_result",
          "data": {
            "text/plain": [
              "<matplotlib.axes._subplots.AxesSubplot at 0x7f2fc82d6e10>"
            ]
          },
          "metadata": {},
          "execution_count": 198
        },
        {
          "output_type": "display_data",
          "data": {
            "text/plain": [
              "<Figure size 432x288 with 1 Axes>"
            ],
            "image/png": "[encoded data removed]"
          },
          "metadata": {}
        }
      ]
    },
    {
      "cell_type": "code",
      "source": [
        "alt_activity_dist = mapped_df.groupby('Company activity').agg({'ICIS-ID': 'count'}).sort_values('ICIS-ID', ascending = False)\n",
        "alt_activity_dist.plot(kind = 'bar')"
      ],
      "metadata": {
        "colab": {
          "base_uri": "https://localhost:8080/",
          "height": 416
        },
        "id": "JGuEmP7mvJBl",
        "outputId": "dc835d75-3819-41b1-a714-35115e434edf"
      },
      "execution_count": 199,
      "outputs": [
        {
          "output_type": "execute_result",
          "data": {
            "text/plain": [
              "<matplotlib.axes._subplots.AxesSubplot at 0x7f2fc1ae1f50>"
            ]
          },
          "metadata": {},
          "execution_count": 199
        },
        {
          "output_type": "display_data",
          "data": {
            "text/plain": [
              "<Figure size 432x288 with 1 Axes>"
            ],
            "image/png": "[encoded data removed]"
          },
          "metadata": {}
        }
      ]
    },
    {
      "cell_type": "code",
      "source": [
        "transact_df[transact_df['TRANSFERRING_ACCOUNT_HOLDER'] == 'Vetropack Austria GmbH'].head(1)"
      ],
      "metadata": {
        "colab": {
          "base_uri": "https://localhost:8080/",
          "height": 174
        },
        "id": "5bcftpZXNQsO",
        "outputId": "77f59576-52d0-4f7f-cafc-2f9b509cda66"
      },
      "execution_count": 200,
      "outputs": [
        {
          "output_type": "execute_result",
          "data": {
            "text/plain": [
              "      TRANSACTION_ID TRANSACTION_TYPE     TRANSACTION_DATE TRANSACTION_STATUS  \\\n",
              "36908       EU380300             10-2  2017-03-20 15:29:13          Completed   \n",
              "\n",
              "      TRANSFERRING_REGISTRY_NAME  TRANSFERRING_ACCOUNT_TYPE  \\\n",
              "36908                    Austria                      100.0   \n",
              "\n",
              "      TRANSFERRING_ACCOUNT_TYPE2 TRANSFERRING_ACCOUNT_OPEN_DT  \\\n",
              "36908        100-Holding Account          2005-06-16 00:00:00   \n",
              "\n",
              "      TRANSFERRING_ACCOUNT_END_OF_VALIDITY TRANSFERRING_ACCOUNT_NAME  ...  \\\n",
              "36908                                  NaN        Vetropack Pöchlarn  ...   \n",
              "\n",
              "       ACQUIRING_INSTALLATION_MAIN_ACTIVITY ORIGINATING_REGISTRY  \\\n",
              "36908                                     -                   EU   \n",
              "\n",
              "      UNIT_TYPE_DESCRIPTION   SUPP_UNIT_TYPE_DESCRIPTION ORIGINAL_PERIOD_CODE  \\\n",
              "36908        Non-Kyoto Unit  EU General Allowances (EUA)                    2   \n",
              "\n",
              "      LULUCF_CODE_DESCRIPTION PROJECT_IDENTIFIER TRACK EXPIRY_DATE AMOUNT  \n",
              "36908                     NaN                NaN   NaN         NaN  52607  \n",
              "\n",
              "[1 rows x 65 columns]"
            ],
            "text/html": [
              "\n",
              "  <div id=\"df-61379a66-eb97-4ea7-9e14-dc6bb4602360\">\n",
              "    <div class=\"colab-df-container\">\n",
              "      <div>\n",
              "<style scoped>\n",
              "    .dataframe tbody tr th:only-of-type {\n",
              "        vertical-align: middle;\n",
              "    }\n",
              "\n",
              "    .dataframe tbody tr th {\n",
              "        vertical-align: top;\n",
              "    }\n",
              "\n",
              "    .dataframe thead th {\n",
              "        text-align: right;\n",
              "    }\n",
              "</style>\n",
              "<table border=\"1\" class=\"dataframe\">\n",
              "  <thead>\n",
              "    <tr style=\"text-align: right;\">\n",
              "      <th></th>\n",
              "      <th>TRANSACTION_ID</th>\n",
              "      <th>TRANSACTION_TYPE</th>\n",
              "      <th>TRANSACTION_DATE</th>\n",
              "      <th>TRANSACTION_STATUS</th>\n",
              "      <th>TRANSFERRING_REGISTRY_NAME</th>\n",
              "      <th>TRANSFERRING_ACCOUNT_TYPE</th>\n",
              "      <th>TRANSFERRING_ACCOUNT_TYPE2</th>\n",
              "      <th>TRANSFERRING_ACCOUNT_OPEN_DT</th>\n",
              "      <th>TRANSFERRING_ACCOUNT_END_OF_VALIDITY</th>\n",
              "      <th>TRANSFERRING_ACCOUNT_NAME</th>\n",
              "      <th>...</th>\n",
              "      <th>ACQUIRING_INSTALLATION_MAIN_ACTIVITY</th>\n",
              "      <th>ORIGINATING_REGISTRY</th>\n",
              "      <th>UNIT_TYPE_DESCRIPTION</th>\n",
              "      <th>SUPP_UNIT_TYPE_DESCRIPTION</th>\n",
              "      <th>ORIGINAL_PERIOD_CODE</th>\n",
              "      <th>LULUCF_CODE_DESCRIPTION</th>\n",
              "      <th>PROJECT_IDENTIFIER</th>\n",
              "      <th>TRACK</th>\n",
              "      <th>EXPIRY_DATE</th>\n",
              "      <th>AMOUNT</th>\n",
              "    </tr>\n",
              "  </thead>\n",
              "  <tbody>\n",
              "    <tr>\n",
              "      <th>36908</th>\n",
              "      <td>EU380300</td>\n",
              "      <td>10-2</td>\n",
              "      <td>2017-03-20 15:29:13</td>\n",
              "      <td>Completed</td>\n",
              "      <td>Austria</td>\n",
              "      <td>100.0</td>\n",
              "      <td>100-Holding Account</td>\n",
              "      <td>2005-06-16 00:00:00</td>\n",
              "      <td>NaN</td>\n",
              "      <td>Vetropack Pöchlarn</td>\n",
              "      <td>...</td>\n",
              "      <td>-</td>\n",
              "      <td>EU</td>\n",
              "      <td>Non-Kyoto Unit</td>\n",
              "      <td>EU General Allowances (EUA)</td>\n",
              "      <td>2</td>\n",
              "      <td>NaN</td>\n",
              "      <td>NaN</td>\n",
              "      <td>NaN</td>\n",
              "      <td>NaN</td>\n",
              "      <td>52607</td>\n",
              "    </tr>\n",
              "  </tbody>\n",
              "</table>\n",
              "<p>1 rows × 65 columns</p>\n",
              "</div>\n",
              "      <button class=\"colab-df-convert\" onclick=\"convertToInteractive('df-61379a66-eb97-4ea7-9e14-dc6bb4602360')\"\n",
              "              title=\"Convert this dataframe to an interactive table.\"\n",
              "              style=\"display:none;\">\n",
              "        \n",
              "  <svg xmlns=\"http://www.w3.org/2000/svg\" height=\"24px\"viewBox=\"0 0 24 24\"\n",
              "       width=\"24px\">\n",
              "    <path d=\"M0 0h24v24H0V0z\" fill=\"none\"/>\n",
              "    <path d=\"M18.56 5.44l.94 2.06.94-2.06 2.06-.94-2.06-.94-.94-2.06-.94 2.06-2.06.94zm-11 1L8.5 8.5l.94-2.06 2.06-.94-2.06-.94L8.5 2.5l-.94 2.06-2.06.94zm10 10l.94 2.06.94-2.06 2.06-.94-2.06-.94-.94-2.06-.94 2.06-2.06.94z\"/><path d=\"M17.41 7.96l-1.37-1.37c-.4-.4-.92-.59-1.43-.59-.52 0-1.04.2-1.43.59L10.3 9.45l-7.72 7.72c-.78.78-.78 2.05 0 2.83L4 21.41c.39.39.9.59 1.41.59.51 0 1.02-.2 1.41-.59l7.78-7.78 2.81-2.81c.8-.78.8-2.07 0-2.86zM5.41 20L4 18.59l7.72-7.72 1.47 1.35L5.41 20z\"/>\n",
              "  </svg>\n",
              "      </button>\n",
              "      \n",
              "  <style>\n",
              "    .colab-df-container {\n",
              "      display:flex;\n",
              "      flex-wrap:wrap;\n",
              "      gap: 12px;\n",
              "    }\n",
              "\n",
              "    .colab-df-convert {\n",
              "      background-color: #E8F0FE;\n",
              "      border: none;\n",
              "      border-radius: 50%;\n",
              "      cursor: pointer;\n",
              "      display: none;\n",
              "      fill: #1967D2;\n",
              "      height: 32px;\n",
              "      padding: 0 0 0 0;\n",
              "      width: 32px;\n",
              "    }\n",
              "\n",
              "    .colab-df-convert:hover {\n",
              "      background-color: #E2EBFA;\n",
              "      box-shadow: 0px 1px 2px rgba(60, 64, 67, 0.3), 0px 1px 3px 1px rgba(60, 64, 67, 0.15);\n",
              "      fill: #174EA6;\n",
              "    }\n",
              "\n",
              "    [theme=dark] .colab-df-convert {\n",
              "      background-color: #3B4455;\n",
              "      fill: #D2E3FC;\n",
              "    }\n",
              "\n",
              "    [theme=dark] .colab-df-convert:hover {\n",
              "      background-color: #434B5C;\n",
              "      box-shadow: 0px 1px 3px 1px rgba(0, 0, 0, 0.15);\n",
              "      filter: drop-shadow(0px 1px 2px rgba(0, 0, 0, 0.3));\n",
              "      fill: #FFFFFF;\n",
              "    }\n",
              "  </style>\n",
              "\n",
              "      <script>\n",
              "        const buttonEl =\n",
              "          document.querySelector('#df-61379a66-eb97-4ea7-9e14-dc6bb4602360 button.colab-df-convert');\n",
              "        buttonEl.style.display =\n",
              "          google.colab.kernel.accessAllowed ? 'block' : 'none';\n",
              "\n",
              "        async function convertToInteractive(key) {\n",
              "          const element = document.querySelector('#df-61379a66-eb97-4ea7-9e14-dc6bb4602360');\n",
              "          const dataTable =\n",
              "            await google.colab.kernel.invokeFunction('convertToInteractive',\n",
              "                                                     [key], {});\n",
              "          if (!dataTable) return;\n",
              "\n",
              "          const docLinkHtml = 'Like what you see? Visit the ' +\n",
              "            '<a target=\"_blank\" href=https://colab.research.google.com/notebooks/data_table.ipynb>data table notebook</a>'\n",
              "            + ' to learn more about interactive tables.';\n",
              "          element.innerHTML = '';\n",
              "          dataTable['output_type'] = 'display_data';\n",
              "          await google.colab.output.renderOutput(dataTable, element);\n",
              "          const docLink = document.createElement('div');\n",
              "          docLink.innerHTML = docLinkHtml;\n",
              "          element.appendChild(docLink);\n",
              "        }\n",
              "      </script>\n",
              "    </div>\n",
              "  </div>\n",
              "  "
            ]
          },
          "metadata": {},
          "execution_count": 200
        }
      ]
    },
    {
      "cell_type": "code",
      "source": [
        "len(mapped_df['Installation name'].unique())"
      ],
      "metadata": {
        "colab": {
          "base_uri": "https://localhost:8080/"
        },
        "id": "pjPBvAmHUFOg",
        "outputId": "8d63606a-c2c9-440d-b2b4-5340708d5ba8"
      },
      "execution_count": 201,
      "outputs": [
        {
          "output_type": "execute_result",
          "data": {
            "text/plain": [
              "17188"
            ]
          },
          "metadata": {},
          "execution_count": 201
        }
      ]
    },
    {
      "cell_type": "code",
      "source": [
        "mapped_string = mapped_df['Installation name'].unique()\n",
        "transact_string = transact_df['TRANSFERRING_ACCOUNT_NAME']\n",
        "contained_names = [install for install in mapped_string if install in transact_string]"
      ],
      "metadata": {
        "id": "FFsarJDHUL8L"
      },
      "execution_count": 202,
      "outputs": []
    },
    {
      "cell_type": "code",
      "source": [
        "ids_out = transact_df.groupby('TRANSFERRING_ACCOUNT_NAME').agg({'AMOUNT': ['sum']})\n",
        "ids_in = transact_df.groupby('ACQUIRING_ACCOUNT_NAME').agg({'AMOUNT': ['sum']})"
      ],
      "metadata": {
        "id": "w8EH9VNkUzg5"
      },
      "execution_count": 203,
      "outputs": []
    },
    {
      "cell_type": "code",
      "source": [
        "amount_out = ids_out.loc[[install for install in mapped_string if install in ids_out.index]]\n",
        "amount_in = ids_in.loc[[install for install in mapped_string if install in ids_in.index]]"
      ],
      "metadata": {
        "id": "dX7r8hyQWV2T"
      },
      "execution_count": 204,
      "outputs": []
    },
    {
      "cell_type": "code",
      "source": [
        "mapped_df['PAID_OUT'] = amount_out\n",
        "mapped_df['PAID_IN'] = amount_in"
      ],
      "metadata": {
        "id": "a553b9-AX3Ut"
      },
      "execution_count": 205,
      "outputs": []
    },
    {
      "cell_type": "code",
      "source": [
        "installs_df.columns"
      ],
      "metadata": {
        "colab": {
          "base_uri": "https://localhost:8080/"
        },
        "id": "ECI_Mj40fbOa",
        "outputId": "45fe4644-6152-4f95-b427-493d6dadb1c1"
      },
      "execution_count": 206,
      "outputs": [
        {
          "output_type": "execute_result",
          "data": {
            "text/plain": [
              "Index(['REGISTRY_CODE', 'INSTALLATION_NAME', 'INSTALLATION_IDENTIFIER',\n",
              "       'PERMIT_IDENTIFIER', 'MAIN_ACTIVITY_TYPE_CODE', 'COMPLIANCE_CODE',\n",
              "       'CH_COMPLIANCE_CODE', 'COMPLIANCE_STATUS_LATEST_YEAR',\n",
              "       'TOTAL_VERIFIED_EMISSIONS', 'CH_TOTAL_VERIFIED_EMISSIONS',\n",
              "       'TOTAL_SURRENDERED_ALLOWANCES', 'YEAR_OF_FIRST_EMISSIONS',\n",
              "       'YEAR_OF_LAST_EMISSIONS', 'ACCOUNT_CLOSURE'],\n",
              "      dtype='object')"
            ]
          },
          "metadata": {},
          "execution_count": 206
        }
      ]
    },
    {
      "cell_type": "code",
      "source": [
        "mapped_df.columns"
      ],
      "metadata": {
        "id": "NjHXHgQihJ0d",
        "outputId": "ef34c205-51ac-4820-92b3-da0806d90530",
        "colab": {
          "base_uri": "https://localhost:8080/"
        }
      },
      "execution_count": 207,
      "outputs": [
        {
          "output_type": "execute_result",
          "data": {
            "text/plain": [
              "Index(['ICIS-ID', 'Installation ID', 'Installation name', 'Country code',\n",
              "       'Permit identifier', 'Activity code', 'Nace code', 'Installation city',\n",
              "       'Account  holder name', 'Company name', 'Company activity', 'TS status',\n",
              "       'Installation address 1', 'Installation address 2', 'Installation ZIP',\n",
              "       'Installation city.1', 'Country', 'Country origin', 'Contact info name',\n",
              "       'Contact info Email', 'Contact address 1', 'Contact address 2',\n",
              "       'Contact ZIP code', 'Contact city', 'Contact country', 'Name 1',\n",
              "       'Email 1', 'Phone 1', 'Name 2', 'Email 2', 'Phone 2', 'Name 3',\n",
              "       'Email 3', 'Phone 3', 'EUTL Link', 'Comments', 'PAID_OUT', 'PAID_IN'],\n",
              "      dtype='object')"
            ]
          },
          "metadata": {},
          "execution_count": 207
        }
      ]
    },
    {
      "cell_type": "code",
      "source": [
        "installs_index = installs_df.groupby('INSTALLATION_NAME')['INSTALLATION_IDENTIFIER'].count().index\n",
        "mapped_index = mapped_df.groupby('Installation name')['ICIS-ID'].count().index"
      ],
      "metadata": {
        "id": "1xlhmFugmQI7"
      },
      "execution_count": 208,
      "outputs": []
    },
    {
      "cell_type": "code",
      "source": [
        "len([install for install in installs_index if install in mapped_index])"
      ],
      "metadata": {
        "id": "uaj2k1U7mUel",
        "outputId": "5a71acae-bfdb-459c-ff5a-7c13a4015167",
        "colab": {
          "base_uri": "https://localhost:8080/"
        }
      },
      "execution_count": 209,
      "outputs": [
        {
          "output_type": "execute_result",
          "data": {
            "text/plain": [
              "12637"
            ]
          },
          "metadata": {},
          "execution_count": 209
        }
      ]
    },
    {
      "cell_type": "code",
      "source": [
        ""
      ],
      "metadata": {
        "id": "KFermwxfm5PR"
      },
      "execution_count": null,
      "outputs": []
    },
    {
      "cell_type": "markdown",
      "source": [
        "Getting a simple df with count and money"
      ],
      "metadata": {
        "id": "OjY-zTJgqVdG"
      }
    },
    {
      "cell_type": "code",
      "source": [
        "count_df = mapped_df[['Installation name', 'ICIS-ID']].copy()\n",
        "count_df.set_index('Installation name', inplace = True)"
      ],
      "metadata": {
        "id": "cQP_EOYaqYA1"
      },
      "execution_count": 229,
      "outputs": []
    },
    {
      "cell_type": "code",
      "source": [
        "count_df['AmountIn'] = amount_in\n",
        "count_df['AmountOut'] = amount_out\n",
        "count_df['Diff'] = (amount_in - amount_out) / (amount_in + amount_out)"
      ],
      "metadata": {
        "id": "voFlkEKZqqnn"
      },
      "execution_count": 230,
      "outputs": []
    },
    {
      "cell_type": "code",
      "source": [
        "count_df.sort_values(by = 'Diff', ascending = True).head()"
      ],
      "metadata": {
        "id": "0MIrAFQeqzTr",
        "outputId": "f1ca1415-4bb1-4729-f3cc-cabdc3d048fd",
        "colab": {
          "base_uri": "https://localhost:8080/",
          "height": 237
        }
      },
      "execution_count": 234,
      "outputs": [
        {
          "output_type": "execute_result",
          "data": {
            "text/plain": [
              "                                         ICIS-ID  AmountIn  AmountOut  \\\n",
              "Installation name                                                       \n",
              "Wienerberger B.V. Steenfabriek Doorwerth  NL-264       4.0    69091.0   \n",
              "Ibstock Brick Ltd Stourbridge Factory     UK-833      78.0    91912.0   \n",
              "Långe Jan                                  SE-28      51.0    38366.0   \n",
              "Lans Westland BV, Locatie Lans Herenwerf  NL-217     110.0    74792.0   \n",
              "Scania, Södertälje                        SE-385     115.0    54295.0   \n",
              "\n",
              "                                              Diff  \n",
              "Installation name                                   \n",
              "Wienerberger B.V. Steenfabriek Doorwerth -0.999884  \n",
              "Ibstock Brick Ltd Stourbridge Factory    -0.998304  \n",
              "Långe Jan                                -0.997345  \n",
              "Lans Westland BV, Locatie Lans Herenwerf -0.997063  \n",
              "Scania, Södertälje                       -0.995773  "
            ],
            "text/html": [
              "\n",
              "  <div id=\"df-3c6ceb1a-aab7-443d-ad43-e53fc9ac54b8\">\n",
              "    <div class=\"colab-df-container\">\n",
              "      <div>\n",
              "<style scoped>\n",
              "    .dataframe tbody tr th:only-of-type {\n",
              "        vertical-align: middle;\n",
              "    }\n",
              "\n",
              "    .dataframe tbody tr th {\n",
              "        vertical-align: top;\n",
              "    }\n",
              "\n",
              "    .dataframe thead th {\n",
              "        text-align: right;\n",
              "    }\n",
              "</style>\n",
              "<table border=\"1\" class=\"dataframe\">\n",
              "  <thead>\n",
              "    <tr style=\"text-align: right;\">\n",
              "      <th></th>\n",
              "      <th>ICIS-ID</th>\n",
              "      <th>AmountIn</th>\n",
              "      <th>AmountOut</th>\n",
              "      <th>Diff</th>\n",
              "    </tr>\n",
              "    <tr>\n",
              "      <th>Installation name</th>\n",
              "      <th></th>\n",
              "      <th></th>\n",
              "      <th></th>\n",
              "      <th></th>\n",
              "    </tr>\n",
              "  </thead>\n",
              "  <tbody>\n",
              "    <tr>\n",
              "      <th>Wienerberger B.V. Steenfabriek Doorwerth</th>\n",
              "      <td>NL-264</td>\n",
              "      <td>4.0</td>\n",
              "      <td>69091.0</td>\n",
              "      <td>-0.999884</td>\n",
              "    </tr>\n",
              "    <tr>\n",
              "      <th>Ibstock Brick Ltd Stourbridge Factory</th>\n",
              "      <td>UK-833</td>\n",
              "      <td>78.0</td>\n",
              "      <td>91912.0</td>\n",
              "      <td>-0.998304</td>\n",
              "    </tr>\n",
              "    <tr>\n",
              "      <th>Långe Jan</th>\n",
              "      <td>SE-28</td>\n",
              "      <td>51.0</td>\n",
              "      <td>38366.0</td>\n",
              "      <td>-0.997345</td>\n",
              "    </tr>\n",
              "    <tr>\n",
              "      <th>Lans Westland BV, Locatie Lans Herenwerf</th>\n",
              "      <td>NL-217</td>\n",
              "      <td>110.0</td>\n",
              "      <td>74792.0</td>\n",
              "      <td>-0.997063</td>\n",
              "    </tr>\n",
              "    <tr>\n",
              "      <th>Scania, Södertälje</th>\n",
              "      <td>SE-385</td>\n",
              "      <td>115.0</td>\n",
              "      <td>54295.0</td>\n",
              "      <td>-0.995773</td>\n",
              "    </tr>\n",
              "  </tbody>\n",
              "</table>\n",
              "</div>\n",
              "      <button class=\"colab-df-convert\" onclick=\"convertToInteractive('df-3c6ceb1a-aab7-443d-ad43-e53fc9ac54b8')\"\n",
              "              title=\"Convert this dataframe to an interactive table.\"\n",
              "              style=\"display:none;\">\n",
              "        \n",
              "  <svg xmlns=\"http://www.w3.org/2000/svg\" height=\"24px\"viewBox=\"0 0 24 24\"\n",
              "       width=\"24px\">\n",
              "    <path d=\"M0 0h24v24H0V0z\" fill=\"none\"/>\n",
              "    <path d=\"M18.56 5.44l.94 2.06.94-2.06 2.06-.94-2.06-.94-.94-2.06-.94 2.06-2.06.94zm-11 1L8.5 8.5l.94-2.06 2.06-.94-2.06-.94L8.5 2.5l-.94 2.06-2.06.94zm10 10l.94 2.06.94-2.06 2.06-.94-2.06-.94-.94-2.06-.94 2.06-2.06.94z\"/><path d=\"M17.41 7.96l-1.37-1.37c-.4-.4-.92-.59-1.43-.59-.52 0-1.04.2-1.43.59L10.3 9.45l-7.72 7.72c-.78.78-.78 2.05 0 2.83L4 21.41c.39.39.9.59 1.41.59.51 0 1.02-.2 1.41-.59l7.78-7.78 2.81-2.81c.8-.78.8-2.07 0-2.86zM5.41 20L4 18.59l7.72-7.72 1.47 1.35L5.41 20z\"/>\n",
              "  </svg>\n",
              "      </button>\n",
              "      \n",
              "  <style>\n",
              "    .colab-df-container {\n",
              "      display:flex;\n",
              "      flex-wrap:wrap;\n",
              "      gap: 12px;\n",
              "    }\n",
              "\n",
              "    .colab-df-convert {\n",
              "      background-color: #E8F0FE;\n",
              "      border: none;\n",
              "      border-radius: 50%;\n",
              "      cursor: pointer;\n",
              "      display: none;\n",
              "      fill: #1967D2;\n",
              "      height: 32px;\n",
              "      padding: 0 0 0 0;\n",
              "      width: 32px;\n",
              "    }\n",
              "\n",
              "    .colab-df-convert:hover {\n",
              "      background-color: #E2EBFA;\n",
              "      box-shadow: 0px 1px 2px rgba(60, 64, 67, 0.3), 0px 1px 3px 1px rgba(60, 64, 67, 0.15);\n",
              "      fill: #174EA6;\n",
              "    }\n",
              "\n",
              "    [theme=dark] .colab-df-convert {\n",
              "      background-color: #3B4455;\n",
              "      fill: #D2E3FC;\n",
              "    }\n",
              "\n",
              "    [theme=dark] .colab-df-convert:hover {\n",
              "      background-color: #434B5C;\n",
              "      box-shadow: 0px 1px 3px 1px rgba(0, 0, 0, 0.15);\n",
              "      filter: drop-shadow(0px 1px 2px rgba(0, 0, 0, 0.3));\n",
              "      fill: #FFFFFF;\n",
              "    }\n",
              "  </style>\n",
              "\n",
              "      <script>\n",
              "        const buttonEl =\n",
              "          document.querySelector('#df-3c6ceb1a-aab7-443d-ad43-e53fc9ac54b8 button.colab-df-convert');\n",
              "        buttonEl.style.display =\n",
              "          google.colab.kernel.accessAllowed ? 'block' : 'none';\n",
              "\n",
              "        async function convertToInteractive(key) {\n",
              "          const element = document.querySelector('#df-3c6ceb1a-aab7-443d-ad43-e53fc9ac54b8');\n",
              "          const dataTable =\n",
              "            await google.colab.kernel.invokeFunction('convertToInteractive',\n",
              "                                                     [key], {});\n",
              "          if (!dataTable) return;\n",
              "\n",
              "          const docLinkHtml = 'Like what you see? Visit the ' +\n",
              "            '<a target=\"_blank\" href=https://colab.research.google.com/notebooks/data_table.ipynb>data table notebook</a>'\n",
              "            + ' to learn more about interactive tables.';\n",
              "          element.innerHTML = '';\n",
              "          dataTable['output_type'] = 'display_data';\n",
              "          await google.colab.output.renderOutput(dataTable, element);\n",
              "          const docLink = document.createElement('div');\n",
              "          docLink.innerHTML = docLinkHtml;\n",
              "          element.appendChild(docLink);\n",
              "        }\n",
              "      </script>\n",
              "    </div>\n",
              "  </div>\n",
              "  "
            ]
          },
          "metadata": {},
          "execution_count": 234
        }
      ]
    },
    {
      "cell_type": "code",
      "source": [
        "count_df['Diff'].plot()"
      ],
      "metadata": {
        "id": "-czNRXlzrZUf",
        "outputId": "611807b8-b96b-4e1b-8582-a1fa5001385f",
        "colab": {
          "base_uri": "https://localhost:8080/",
          "height": 322
        }
      },
      "execution_count": 235,
      "outputs": [
        {
          "output_type": "execute_result",
          "data": {
            "text/plain": [
              "<matplotlib.axes._subplots.AxesSubplot at 0x7f2fea23e510>"
            ]
          },
          "metadata": {},
          "execution_count": 235
        },
        {
          "output_type": "display_data",
          "data": {
            "text/plain": [
              "<Figure size 432x288 with 1 Axes>"
            ],
            "image/png": "[encoded data removed]"
          },
          "metadata": {}
        }
      ]
    },
    {
      "cell_type": "code",
      "source": [
        ""
      ],
      "metadata": {
        "id": "XfgOwzS0r52M"
      },
      "execution_count": null,
      "outputs": []
    }
  ]
}