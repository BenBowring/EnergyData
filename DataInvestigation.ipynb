{
  "nbformat": 4,
  "nbformat_minor": 0,
  "metadata": {
    "colab": {
      "name": "DataInvestigation.ipynb",
      "provenance": [],
      "authorship_tag": "ABX9TyMOTE/MeDQ4N23EnN6eKvJA",
      "include_colab_link": true
    },
    "kernelspec": {
      "name": "python3",
      "display_name": "Python 3"
    },
    "language_info": {
      "name": "python"
    }
  },
  "cells": [
    {
      "cell_type": "markdown",
      "metadata": {
        "id": "view-in-github",
        "colab_type": "text"
      },
      "source": [
        "<a href=\"https://colab.research.google.com/github/BenBowring/EnergyData/blob/main/DataInvestigation.ipynb\" target=\"_parent\"><img src=\"https://colab.research.google.com/assets/colab-badge.svg\" alt=\"Open In Colab\"/></a>"
      ]
    },
    {
      "cell_type": "code",
      "execution_count": 1,
      "metadata": {
        "id": "QB3nNbWTPVXt",
        "colab": {
          "base_uri": "https://localhost:8080/"
        },
        "outputId": "25453a4f-e3f8-4a45-f386-ee745f222ba6"
      },
      "outputs": [
        {
          "output_type": "stream",
          "name": "stdout",
          "text": [
            "\u001b[31mERROR: Invalid requirement: 'Py}Drive'\u001b[0m\n"
          ]
        }
      ],
      "source": [
        "!pip install -U -q PyDrive"
      ]
    },
    {
      "cell_type": "code",
      "source": [
        "from pydrive.auth import GoogleAuth\n",
        "from pydrive.drive import GoogleDrive\n",
        "from google.colab import auth\n",
        "from oauth2client.client import GoogleCredentials"
      ],
      "metadata": {
        "id": "qQsIWo0PPYm_"
      },
      "execution_count": 2,
      "outputs": []
    },
    {
      "cell_type": "code",
      "source": [
        "auth.authenticate_user()\n",
        "gauth = GoogleAuth()\n",
        "gauth.credentials = GoogleCredentials.get_application_default()\n",
        "drive = GoogleDrive(gauth)"
      ],
      "metadata": {
        "id": "mQm0SGEePbxH"
      },
      "execution_count": 3,
      "outputs": []
    },
    {
      "cell_type": "code",
      "source": [
        "transacts = drive.CreateFile({'id': '1MPuNhnaCwBdQa4E941TiWvBLX9z74QxN'})\n",
        "transacts.GetContentFile('transact_data.csv')"
      ],
      "metadata": {
        "id": "fHBOfDZZQ07J"
      },
      "execution_count": 4,
      "outputs": []
    },
    {
      "cell_type": "code",
      "source": [
        "mapped_installs = drive.CreateFile({'id': '1vtTG0o8Sfa4S1zwsDQZPjsaY1KYnIhp_'})\n",
        "mapped_installs.GetContentFile('JanCompTrimmed.xlsx')"
      ],
      "metadata": {
        "id": "ARtuGYqtPdSb"
      },
      "execution_count": 5,
      "outputs": []
    },
    {
      "cell_type": "code",
      "source": [
        "full_installs = drive.CreateFile({'id': '1H9osyBVtiS7oMKQP1Mo0guM6lSoxC262'})\n",
        "full_installs.GetContentFile('AccCompliance.xlsx')"
      ],
      "metadata": {
        "id": "Bfg8oYQKRSuf"
      },
      "execution_count": 6,
      "outputs": []
    },
    {
      "cell_type": "code",
      "source": [
        "import pandas as pd\n",
        "import seaborn as sns\n",
        "import matplotlib.pyplot as plt\n",
        "\n",
        "plt.style.use('fivethirtyeight')"
      ],
      "metadata": {
        "id": "ywECNvv2RUFS"
      },
      "execution_count": 7,
      "outputs": []
    },
    {
      "cell_type": "code",
      "source": [
        "transact_df = pd.read_csv('transact_data.csv')"
      ],
      "metadata": {
        "colab": {
          "base_uri": "https://localhost:8080/"
        },
        "id": "-UT8k_bLRvTu",
        "outputId": "2b7a9e6c-b5e4-42d6-b105-2dd69184ace7"
      },
      "execution_count": 8,
      "outputs": [
        {
          "output_type": "stream",
          "name": "stderr",
          "text": [
            "/usr/local/lib/python3.7/dist-packages/IPython/core/interactiveshell.py:2882: DtypeWarning: Columns (15,17,18,19,21,22,23,24,25,26,27,28,43,44,45,47,48,49,50,51,52,53,54,58,60,63) have mixed types.Specify dtype option on import or set low_memory=False.\n",
            "  exec(code_obj, self.user_global_ns, self.user_ns)\n"
          ]
        }
      ]
    },
    {
      "cell_type": "code",
      "source": [
        "mapped_df = pd.read_excel('JanCompTrimmed.xlsx')\n",
        "installs_df = pd.read_excel('AccCompliance.xlsx')"
      ],
      "metadata": {
        "id": "y6Y0S7_sR0oy"
      },
      "execution_count": 9,
      "outputs": []
    },
    {
      "cell_type": "code",
      "source": [
        "counts = mapped_df.groupby('Company name').agg({'ICIS-ID': 'count'}).sort_values('ICIS-ID', ascending = False)\n",
        "\n",
        "kept_cols = ['Installation ID', 'Installation name', 'Country code',\n",
        "               'Permit identifier', 'Activity code', 'Nace code', 'Installation city',\n",
        "               'Account  holder name', 'Company activity', 'TS status',\n",
        "               'Installation address 1', 'Installation ZIP',\n",
        "               'Installation city.1']\n",
        "\n",
        "dropped_cols = [x for x in mapped_df.columns if x not in kept_cols]\n",
        "\n",
        "name_cols = ['Name 1', 'Name 2', 'Name 3']\n"
      ],
      "metadata": {
        "id": "ooO3HnN9UjjV"
      },
      "execution_count": 10,
      "outputs": []
    },
    {
      "cell_type": "code",
      "source": [
        "counts[counts['ICIS-ID'] == 5]"
      ],
      "metadata": {
        "colab": {
          "base_uri": "https://localhost:8080/",
          "height": 455
        },
        "id": "l21vY9yvwZAS",
        "outputId": "b8792df1-6adb-432d-ec54-65ae6ce93c04"
      },
      "execution_count": 11,
      "outputs": [
        {
          "output_type": "execute_result",
          "data": {
            "text/plain": [
              "               ICIS-ID\n",
              "Company name          \n",
              "Rekeep s.p.a.        5\n",
              "Dairy crest          5\n",
              "Mazarron             5\n",
              "EUROCHEM             5\n",
              "Galbani              5\n",
              "...                ...\n",
              "V.E.A.K. S.A.        5\n",
              "Enegi Fyns           5\n",
              "Enea S.A.            5\n",
              "Cimpor               5\n",
              "Nav                  5\n",
              "\n",
              "[134 rows x 1 columns]"
            ],
            "text/html": [
              "\n",
              "  <div id=\"df-c258cab4-1b38-47fe-bbae-0ef3e94070dd\">\n",
              "    <div class=\"colab-df-container\">\n",
              "      <div>\n",
              "<style scoped>\n",
              "    .dataframe tbody tr th:only-of-type {\n",
              "        vertical-align: middle;\n",
              "    }\n",
              "\n",
              "    .dataframe tbody tr th {\n",
              "        vertical-align: top;\n",
              "    }\n",
              "\n",
              "    .dataframe thead th {\n",
              "        text-align: right;\n",
              "    }\n",
              "</style>\n",
              "<table border=\"1\" class=\"dataframe\">\n",
              "  <thead>\n",
              "    <tr style=\"text-align: right;\">\n",
              "      <th></th>\n",
              "      <th>ICIS-ID</th>\n",
              "    </tr>\n",
              "    <tr>\n",
              "      <th>Company name</th>\n",
              "      <th></th>\n",
              "    </tr>\n",
              "  </thead>\n",
              "  <tbody>\n",
              "    <tr>\n",
              "      <th>Rekeep s.p.a.</th>\n",
              "      <td>5</td>\n",
              "    </tr>\n",
              "    <tr>\n",
              "      <th>Dairy crest</th>\n",
              "      <td>5</td>\n",
              "    </tr>\n",
              "    <tr>\n",
              "      <th>Mazarron</th>\n",
              "      <td>5</td>\n",
              "    </tr>\n",
              "    <tr>\n",
              "      <th>EUROCHEM</th>\n",
              "      <td>5</td>\n",
              "    </tr>\n",
              "    <tr>\n",
              "      <th>Galbani</th>\n",
              "      <td>5</td>\n",
              "    </tr>\n",
              "    <tr>\n",
              "      <th>...</th>\n",
              "      <td>...</td>\n",
              "    </tr>\n",
              "    <tr>\n",
              "      <th>V.E.A.K. S.A.</th>\n",
              "      <td>5</td>\n",
              "    </tr>\n",
              "    <tr>\n",
              "      <th>Enegi Fyns</th>\n",
              "      <td>5</td>\n",
              "    </tr>\n",
              "    <tr>\n",
              "      <th>Enea S.A.</th>\n",
              "      <td>5</td>\n",
              "    </tr>\n",
              "    <tr>\n",
              "      <th>Cimpor</th>\n",
              "      <td>5</td>\n",
              "    </tr>\n",
              "    <tr>\n",
              "      <th>Nav</th>\n",
              "      <td>5</td>\n",
              "    </tr>\n",
              "  </tbody>\n",
              "</table>\n",
              "<p>134 rows × 1 columns</p>\n",
              "</div>\n",
              "      <button class=\"colab-df-convert\" onclick=\"convertToInteractive('df-c258cab4-1b38-47fe-bbae-0ef3e94070dd')\"\n",
              "              title=\"Convert this dataframe to an interactive table.\"\n",
              "              style=\"display:none;\">\n",
              "        \n",
              "  <svg xmlns=\"http://www.w3.org/2000/svg\" height=\"24px\"viewBox=\"0 0 24 24\"\n",
              "       width=\"24px\">\n",
              "    <path d=\"M0 0h24v24H0V0z\" fill=\"none\"/>\n",
              "    <path d=\"M18.56 5.44l.94 2.06.94-2.06 2.06-.94-2.06-.94-.94-2.06-.94 2.06-2.06.94zm-11 1L8.5 8.5l.94-2.06 2.06-.94-2.06-.94L8.5 2.5l-.94 2.06-2.06.94zm10 10l.94 2.06.94-2.06 2.06-.94-2.06-.94-.94-2.06-.94 2.06-2.06.94z\"/><path d=\"M17.41 7.96l-1.37-1.37c-.4-.4-.92-.59-1.43-.59-.52 0-1.04.2-1.43.59L10.3 9.45l-7.72 7.72c-.78.78-.78 2.05 0 2.83L4 21.41c.39.39.9.59 1.41.59.51 0 1.02-.2 1.41-.59l7.78-7.78 2.81-2.81c.8-.78.8-2.07 0-2.86zM5.41 20L4 18.59l7.72-7.72 1.47 1.35L5.41 20z\"/>\n",
              "  </svg>\n",
              "      </button>\n",
              "      \n",
              "  <style>\n",
              "    .colab-df-container {\n",
              "      display:flex;\n",
              "      flex-wrap:wrap;\n",
              "      gap: 12px;\n",
              "    }\n",
              "\n",
              "    .colab-df-convert {\n",
              "      background-color: #E8F0FE;\n",
              "      border: none;\n",
              "      border-radius: 50%;\n",
              "      cursor: pointer;\n",
              "      display: none;\n",
              "      fill: #1967D2;\n",
              "      height: 32px;\n",
              "      padding: 0 0 0 0;\n",
              "      width: 32px;\n",
              "    }\n",
              "\n",
              "    .colab-df-convert:hover {\n",
              "      background-color: #E2EBFA;\n",
              "      box-shadow: 0px 1px 2px rgba(60, 64, 67, 0.3), 0px 1px 3px 1px rgba(60, 64, 67, 0.15);\n",
              "      fill: #174EA6;\n",
              "    }\n",
              "\n",
              "    [theme=dark] .colab-df-convert {\n",
              "      background-color: #3B4455;\n",
              "      fill: #D2E3FC;\n",
              "    }\n",
              "\n",
              "    [theme=dark] .colab-df-convert:hover {\n",
              "      background-color: #434B5C;\n",
              "      box-shadow: 0px 1px 3px 1px rgba(0, 0, 0, 0.15);\n",
              "      filter: drop-shadow(0px 1px 2px rgba(0, 0, 0, 0.3));\n",
              "      fill: #FFFFFF;\n",
              "    }\n",
              "  </style>\n",
              "\n",
              "      <script>\n",
              "        const buttonEl =\n",
              "          document.querySelector('#df-c258cab4-1b38-47fe-bbae-0ef3e94070dd button.colab-df-convert');\n",
              "        buttonEl.style.display =\n",
              "          google.colab.kernel.accessAllowed ? 'block' : 'none';\n",
              "\n",
              "        async function convertToInteractive(key) {\n",
              "          const element = document.querySelector('#df-c258cab4-1b38-47fe-bbae-0ef3e94070dd');\n",
              "          const dataTable =\n",
              "            await google.colab.kernel.invokeFunction('convertToInteractive',\n",
              "                                                     [key], {});\n",
              "          if (!dataTable) return;\n",
              "\n",
              "          const docLinkHtml = 'Like what you see? Visit the ' +\n",
              "            '<a target=\"_blank\" href=https://colab.research.google.com/notebooks/data_table.ipynb>data table notebook</a>'\n",
              "            + ' to learn more about interactive tables.';\n",
              "          element.innerHTML = '';\n",
              "          dataTable['output_type'] = 'display_data';\n",
              "          await google.colab.output.renderOutput(dataTable, element);\n",
              "          const docLink = document.createElement('div');\n",
              "          docLink.innerHTML = docLinkHtml;\n",
              "          element.appendChild(docLink);\n",
              "        }\n",
              "      </script>\n",
              "    </div>\n",
              "  </div>\n",
              "  "
            ]
          },
          "metadata": {},
          "execution_count": 11
        }
      ]
    },
    {
      "cell_type": "code",
      "source": [
        "sns.distplot(counts[counts['ICIS-ID'] > 5])"
      ],
      "metadata": {
        "colab": {
          "base_uri": "https://localhost:8080/",
          "height": 355
        },
        "id": "7zxOOSzZtvNe",
        "outputId": "e1d27d76-00d3-4ebe-e3ff-9070d3b47b7e"
      },
      "execution_count": 12,
      "outputs": [
        {
          "output_type": "stream",
          "name": "stderr",
          "text": [
            "/usr/local/lib/python3.7/dist-packages/seaborn/distributions.py:2619: FutureWarning: `distplot` is a deprecated function and will be removed in a future version. Please adapt your code to use either `displot` (a figure-level function with similar flexibility) or `histplot` (an axes-level function for histograms).\n",
            "  warnings.warn(msg, FutureWarning)\n"
          ]
        },
        {
          "output_type": "execute_result",
          "data": {
            "text/plain": [
              "<matplotlib.axes._subplots.AxesSubplot at 0x7fc216c99610>"
            ]
          },
          "metadata": {},
          "execution_count": 12
        },
        {
          "output_type": "display_data",
          "data": {
            "text/plain": [
              "<Figure size 432x288 with 1 Axes>"
            ],
            "image/png": "[encoded data removed]"
          },
          "metadata": {}
        }
      ]
    },
    {
      "cell_type": "code",
      "source": [
        "country_dist = mapped_df.groupby('Country code').agg({'ICIS-ID': 'count'}).sort_values('ICIS-ID', ascending = False)\n",
        "country_dist.plot(kind = 'bar')"
      ],
      "metadata": {
        "colab": {
          "base_uri": "https://localhost:8080/",
          "height": 329
        },
        "id": "pRvP31lRtxA2",
        "outputId": "bf127184-dd7a-4adc-a113-be2ecca90c12"
      },
      "execution_count": 13,
      "outputs": [
        {
          "output_type": "execute_result",
          "data": {
            "text/plain": [
              "<matplotlib.axes._subplots.AxesSubplot at 0x7fc216a03450>"
            ]
          },
          "metadata": {},
          "execution_count": 13
        },
        {
          "output_type": "display_data",
          "data": {
            "text/plain": [
              "<Figure size 432x288 with 1 Axes>"
            ],
            "image/png": "[encoded data removed]"
          },
          "metadata": {}
        }
      ]
    },
    {
      "cell_type": "code",
      "source": [
        "activity_dist = mapped_df.groupby('Activity code').agg({'ICIS-ID': 'count'}).sort_values('ICIS-ID', ascending = False)\n",
        "activity_dist.plot(kind = 'bar')"
      ],
      "metadata": {
        "colab": {
          "base_uri": "https://localhost:8080/",
          "height": 339
        },
        "id": "QEgjBIbLuGaZ",
        "outputId": "6f11631d-f8d4-41e0-b8dc-cc80f629da51"
      },
      "execution_count": 14,
      "outputs": [
        {
          "output_type": "execute_result",
          "data": {
            "text/plain": [
              "<matplotlib.axes._subplots.AxesSubplot at 0x7fc2166a62d0>"
            ]
          },
          "metadata": {},
          "execution_count": 14
        },
        {
          "output_type": "display_data",
          "data": {
            "text/plain": [
              "<Figure size 432x288 with 1 Axes>"
            ],
            "image/png": "[encoded data removed]"
          },
          "metadata": {}
        }
      ]
    },
    {
      "cell_type": "code",
      "source": [
        "alt_activity_dist = mapped_df.groupby('Company activity').agg({'ICIS-ID': 'count'}).sort_values('ICIS-ID', ascending = False)\n",
        "alt_activity_dist.plot(kind = 'bar')"
      ],
      "metadata": {
        "colab": {
          "base_uri": "https://localhost:8080/",
          "height": 416
        },
        "id": "JGuEmP7mvJBl",
        "outputId": "71569c75-9543-4ace-8576-8d9c582f5265"
      },
      "execution_count": 15,
      "outputs": [
        {
          "output_type": "execute_result",
          "data": {
            "text/plain": [
              "<matplotlib.axes._subplots.AxesSubplot at 0x7fc2171ed2d0>"
            ]
          },
          "metadata": {},
          "execution_count": 15
        },
        {
          "output_type": "display_data",
          "data": {
            "text/plain": [
              "<Figure size 432x288 with 1 Axes>"
            ],
            "image/png": "[encoded data removed]"
          },
          "metadata": {}
        }
      ]
    },
    {
      "cell_type": "code",
      "source": [
        "transact_df[transact_df['TRANSFERRING_ACCOUNT_HOLDER'] == 'Vetropack Austria GmbH'].head(1)"
      ],
      "metadata": {
        "colab": {
          "base_uri": "https://localhost:8080/",
          "height": 174
        },
        "id": "5bcftpZXNQsO",
        "outputId": "0d005b21-82cb-45ab-be9c-7031c78a53d7"
      },
      "execution_count": 16,
      "outputs": [
        {
          "output_type": "execute_result",
          "data": {
            "text/plain": [
              "      TRANSACTION_ID TRANSACTION_TYPE     TRANSACTION_DATE TRANSACTION_STATUS  \\\n",
              "36908       EU380300             10-2  2017-03-20 15:29:13          Completed   \n",
              "\n",
              "      TRANSFERRING_REGISTRY_NAME  TRANSFERRING_ACCOUNT_TYPE  \\\n",
              "36908                    Austria                      100.0   \n",
              "\n",
              "      TRANSFERRING_ACCOUNT_TYPE2 TRANSFERRING_ACCOUNT_OPEN_DT  \\\n",
              "36908        100-Holding Account          2005-06-16 00:00:00   \n",
              "\n",
              "      TRANSFERRING_ACCOUNT_END_OF_VALIDITY TRANSFERRING_ACCOUNT_NAME  ...  \\\n",
              "36908                                  NaN        Vetropack Pöchlarn  ...   \n",
              "\n",
              "       ACQUIRING_INSTALLATION_MAIN_ACTIVITY ORIGINATING_REGISTRY  \\\n",
              "36908                                     -                   EU   \n",
              "\n",
              "      UNIT_TYPE_DESCRIPTION   SUPP_UNIT_TYPE_DESCRIPTION ORIGINAL_PERIOD_CODE  \\\n",
              "36908        Non-Kyoto Unit  EU General Allowances (EUA)                    2   \n",
              "\n",
              "      LULUCF_CODE_DESCRIPTION PROJECT_IDENTIFIER TRACK EXPIRY_DATE AMOUNT  \n",
              "36908                     NaN                NaN   NaN         NaN  52607  \n",
              "\n",
              "[1 rows x 65 columns]"
            ],
            "text/html": [
              "\n",
              "  <div id=\"df-bf011b41-761a-4823-881a-aafc693a5ad7\">\n",
              "    <div class=\"colab-df-container\">\n",
              "      <div>\n",
              "<style scoped>\n",
              "    .dataframe tbody tr th:only-of-type {\n",
              "        vertical-align: middle;\n",
              "    }\n",
              "\n",
              "    .dataframe tbody tr th {\n",
              "        vertical-align: top;\n",
              "    }\n",
              "\n",
              "    .dataframe thead th {\n",
              "        text-align: right;\n",
              "    }\n",
              "</style>\n",
              "<table border=\"1\" class=\"dataframe\">\n",
              "  <thead>\n",
              "    <tr style=\"text-align: right;\">\n",
              "      <th></th>\n",
              "      <th>TRANSACTION_ID</th>\n",
              "      <th>TRANSACTION_TYPE</th>\n",
              "      <th>TRANSACTION_DATE</th>\n",
              "      <th>TRANSACTION_STATUS</th>\n",
              "      <th>TRANSFERRING_REGISTRY_NAME</th>\n",
              "      <th>TRANSFERRING_ACCOUNT_TYPE</th>\n",
              "      <th>TRANSFERRING_ACCOUNT_TYPE2</th>\n",
              "      <th>TRANSFERRING_ACCOUNT_OPEN_DT</th>\n",
              "      <th>TRANSFERRING_ACCOUNT_END_OF_VALIDITY</th>\n",
              "      <th>TRANSFERRING_ACCOUNT_NAME</th>\n",
              "      <th>...</th>\n",
              "      <th>ACQUIRING_INSTALLATION_MAIN_ACTIVITY</th>\n",
              "      <th>ORIGINATING_REGISTRY</th>\n",
              "      <th>UNIT_TYPE_DESCRIPTION</th>\n",
              "      <th>SUPP_UNIT_TYPE_DESCRIPTION</th>\n",
              "      <th>ORIGINAL_PERIOD_CODE</th>\n",
              "      <th>LULUCF_CODE_DESCRIPTION</th>\n",
              "      <th>PROJECT_IDENTIFIER</th>\n",
              "      <th>TRACK</th>\n",
              "      <th>EXPIRY_DATE</th>\n",
              "      <th>AMOUNT</th>\n",
              "    </tr>\n",
              "  </thead>\n",
              "  <tbody>\n",
              "    <tr>\n",
              "      <th>36908</th>\n",
              "      <td>EU380300</td>\n",
              "      <td>10-2</td>\n",
              "      <td>2017-03-20 15:29:13</td>\n",
              "      <td>Completed</td>\n",
              "      <td>Austria</td>\n",
              "      <td>100.0</td>\n",
              "      <td>100-Holding Account</td>\n",
              "      <td>2005-06-16 00:00:00</td>\n",
              "      <td>NaN</td>\n",
              "      <td>Vetropack Pöchlarn</td>\n",
              "      <td>...</td>\n",
              "      <td>-</td>\n",
              "      <td>EU</td>\n",
              "      <td>Non-Kyoto Unit</td>\n",
              "      <td>EU General Allowances (EUA)</td>\n",
              "      <td>2</td>\n",
              "      <td>NaN</td>\n",
              "      <td>NaN</td>\n",
              "      <td>NaN</td>\n",
              "      <td>NaN</td>\n",
              "      <td>52607</td>\n",
              "    </tr>\n",
              "  </tbody>\n",
              "</table>\n",
              "<p>1 rows × 65 columns</p>\n",
              "</div>\n",
              "      <button class=\"colab-df-convert\" onclick=\"convertToInteractive('df-bf011b41-761a-4823-881a-aafc693a5ad7')\"\n",
              "              title=\"Convert this dataframe to an interactive table.\"\n",
              "              style=\"display:none;\">\n",
              "        \n",
              "  <svg xmlns=\"http://www.w3.org/2000/svg\" height=\"24px\"viewBox=\"0 0 24 24\"\n",
              "       width=\"24px\">\n",
              "    <path d=\"M0 0h24v24H0V0z\" fill=\"none\"/>\n",
              "    <path d=\"M18.56 5.44l.94 2.06.94-2.06 2.06-.94-2.06-.94-.94-2.06-.94 2.06-2.06.94zm-11 1L8.5 8.5l.94-2.06 2.06-.94-2.06-.94L8.5 2.5l-.94 2.06-2.06.94zm10 10l.94 2.06.94-2.06 2.06-.94-2.06-.94-.94-2.06-.94 2.06-2.06.94z\"/><path d=\"M17.41 7.96l-1.37-1.37c-.4-.4-.92-.59-1.43-.59-.52 0-1.04.2-1.43.59L10.3 9.45l-7.72 7.72c-.78.78-.78 2.05 0 2.83L4 21.41c.39.39.9.59 1.41.59.51 0 1.02-.2 1.41-.59l7.78-7.78 2.81-2.81c.8-.78.8-2.07 0-2.86zM5.41 20L4 18.59l7.72-7.72 1.47 1.35L5.41 20z\"/>\n",
              "  </svg>\n",
              "      </button>\n",
              "      \n",
              "  <style>\n",
              "    .colab-df-container {\n",
              "      display:flex;\n",
              "      flex-wrap:wrap;\n",
              "      gap: 12px;\n",
              "    }\n",
              "\n",
              "    .colab-df-convert {\n",
              "      background-color: #E8F0FE;\n",
              "      border: none;\n",
              "      border-radius: 50%;\n",
              "      cursor: pointer;\n",
              "      display: none;\n",
              "      fill: #1967D2;\n",
              "      height: 32px;\n",
              "      padding: 0 0 0 0;\n",
              "      width: 32px;\n",
              "    }\n",
              "\n",
              "    .colab-df-convert:hover {\n",
              "      background-color: #E2EBFA;\n",
              "      box-shadow: 0px 1px 2px rgba(60, 64, 67, 0.3), 0px 1px 3px 1px rgba(60, 64, 67, 0.15);\n",
              "      fill: #174EA6;\n",
              "    }\n",
              "\n",
              "    [theme=dark] .colab-df-convert {\n",
              "      background-color: #3B4455;\n",
              "      fill: #D2E3FC;\n",
              "    }\n",
              "\n",
              "    [theme=dark] .colab-df-convert:hover {\n",
              "      background-color: #434B5C;\n",
              "      box-shadow: 0px 1px 3px 1px rgba(0, 0, 0, 0.15);\n",
              "      filter: drop-shadow(0px 1px 2px rgba(0, 0, 0, 0.3));\n",
              "      fill: #FFFFFF;\n",
              "    }\n",
              "  </style>\n",
              "\n",
              "      <script>\n",
              "        const buttonEl =\n",
              "          document.querySelector('#df-bf011b41-761a-4823-881a-aafc693a5ad7 button.colab-df-convert');\n",
              "        buttonEl.style.display =\n",
              "          google.colab.kernel.accessAllowed ? 'block' : 'none';\n",
              "\n",
              "        async function convertToInteractive(key) {\n",
              "          const element = document.querySelector('#df-bf011b41-761a-4823-881a-aafc693a5ad7');\n",
              "          const dataTable =\n",
              "            await google.colab.kernel.invokeFunction('convertToInteractive',\n",
              "                                                     [key], {});\n",
              "          if (!dataTable) return;\n",
              "\n",
              "          const docLinkHtml = 'Like what you see? Visit the ' +\n",
              "            '<a target=\"_blank\" href=https://colab.research.google.com/notebooks/data_table.ipynb>data table notebook</a>'\n",
              "            + ' to learn more about interactive tables.';\n",
              "          element.innerHTML = '';\n",
              "          dataTable['output_type'] = 'display_data';\n",
              "          await google.colab.output.renderOutput(dataTable, element);\n",
              "          const docLink = document.createElement('div');\n",
              "          docLink.innerHTML = docLinkHtml;\n",
              "          element.appendChild(docLink);\n",
              "        }\n",
              "      </script>\n",
              "    </div>\n",
              "  </div>\n",
              "  "
            ]
          },
          "metadata": {},
          "execution_count": 16
        }
      ]
    },
    {
      "cell_type": "code",
      "source": [
        "len(mapped_df['Installation name'].unique())"
      ],
      "metadata": {
        "colab": {
          "base_uri": "https://localhost:8080/"
        },
        "id": "pjPBvAmHUFOg",
        "outputId": "1afaf114-7826-4214-8f35-a7859b77f4e7"
      },
      "execution_count": 17,
      "outputs": [
        {
          "output_type": "execute_result",
          "data": {
            "text/plain": [
              "17188"
            ]
          },
          "metadata": {},
          "execution_count": 17
        }
      ]
    },
    {
      "cell_type": "code",
      "source": [
        "mapped_string = mapped_df['Installation name'].unique()\n",
        "transact_string = transact_df['TRANSFERRING_ACCOUNT_NAME']\n",
        "contained_names = [install for install in mapped_string if install in transact_string]"
      ],
      "metadata": {
        "id": "FFsarJDHUL8L"
      },
      "execution_count": 18,
      "outputs": []
    },
    {
      "cell_type": "code",
      "source": [
        "ids_out = transact_df.groupby('TRANSFERRING_ACCOUNT_NAME').agg({'AMOUNT': ['sum']})\n",
        "ids_in = transact_df.groupby('ACQUIRING_ACCOUNT_NAME').agg({'AMOUNT': ['sum']})"
      ],
      "metadata": {
        "id": "w8EH9VNkUzg5"
      },
      "execution_count": 19,
      "outputs": []
    },
    {
      "cell_type": "code",
      "source": [
        "amount_out = ids_out.loc[[install for install in mapped_string if install in ids_out.index]]\n",
        "amount_in = ids_in.loc[[install for install in mapped_string if install in ids_in.index]]"
      ],
      "metadata": {
        "id": "dX7r8hyQWV2T"
      },
      "execution_count": 20,
      "outputs": []
    },
    {
      "cell_type": "code",
      "source": [
        "mapped_df['PAID_OUT'] = amount_out\n",
        "mapped_df['PAID_IN'] = amount_in"
      ],
      "metadata": {
        "id": "a553b9-AX3Ut"
      },
      "execution_count": 21,
      "outputs": []
    },
    {
      "cell_type": "code",
      "source": [
        "installs_df.columns"
      ],
      "metadata": {
        "colab": {
          "base_uri": "https://localhost:8080/"
        },
        "id": "ECI_Mj40fbOa",
        "outputId": "eff751ed-ad09-4adc-ffc3-8a8904ff7326"
      },
      "execution_count": 22,
      "outputs": [
        {
          "output_type": "execute_result",
          "data": {
            "text/plain": [
              "Index(['REGISTRY_CODE', 'INSTALLATION_NAME', 'INSTALLATION_IDENTIFIER',\n",
              "       'PERMIT_IDENTIFIER', 'MAIN_ACTIVITY_TYPE_CODE', 'COMPLIANCE_CODE',\n",
              "       'CH_COMPLIANCE_CODE', 'COMPLIANCE_STATUS_LATEST_YEAR',\n",
              "       'TOTAL_VERIFIED_EMISSIONS', 'CH_TOTAL_VERIFIED_EMISSIONS',\n",
              "       'TOTAL_SURRENDERED_ALLOWANCES', 'YEAR_OF_FIRST_EMISSIONS',\n",
              "       'YEAR_OF_LAST_EMISSIONS', 'ACCOUNT_CLOSURE'],\n",
              "      dtype='object')"
            ]
          },
          "metadata": {},
          "execution_count": 22
        }
      ]
    },
    {
      "cell_type": "code",
      "source": [
        "mapped_df.columns"
      ],
      "metadata": {
        "colab": {
          "base_uri": "https://localhost:8080/"
        },
        "id": "NjHXHgQihJ0d",
        "outputId": "d7f24cb6-c38c-4509-be4e-4edae305136e"
      },
      "execution_count": 23,
      "outputs": [
        {
          "output_type": "execute_result",
          "data": {
            "text/plain": [
              "Index(['ICIS-ID', 'Installation ID', 'Installation name', 'Country code',\n",
              "       'Permit identifier', 'Activity code', 'Nace code', 'Installation city',\n",
              "       'Account  holder name', 'Company name', 'Company activity', 'TS status',\n",
              "       'Installation address 1', 'Installation address 2', 'Installation ZIP',\n",
              "       'Installation city.1', 'Country', 'Country origin', 'Contact info name',\n",
              "       'Contact info Email', 'Contact address 1', 'Contact address 2',\n",
              "       'Contact ZIP code', 'Contact city', 'Contact country', 'Name 1',\n",
              "       'Email 1', 'Phone 1', 'Name 2', 'Email 2', 'Phone 2', 'Name 3',\n",
              "       'Email 3', 'Phone 3', 'EUTL Link', 'Comments', 'PAID_OUT', 'PAID_IN'],\n",
              "      dtype='object')"
            ]
          },
          "metadata": {},
          "execution_count": 23
        }
      ]
    },
    {
      "cell_type": "code",
      "source": [
        "installs_index = installs_df.groupby('INSTALLATION_NAME')['INSTALLATION_IDENTIFIER'].count().index\n",
        "mapped_index = mapped_df.groupby('Installation name')['ICIS-ID'].count().index"
      ],
      "metadata": {
        "id": "1xlhmFugmQI7"
      },
      "execution_count": 24,
      "outputs": []
    },
    {
      "cell_type": "code",
      "source": [
        "len([install for install in installs_index if install in mapped_index])"
      ],
      "metadata": {
        "colab": {
          "base_uri": "https://localhost:8080/"
        },
        "id": "uaj2k1U7mUel",
        "outputId": "577b0616-bd1e-41a8-8176-7902dcde4421"
      },
      "execution_count": 25,
      "outputs": [
        {
          "output_type": "execute_result",
          "data": {
            "text/plain": [
              "12637"
            ]
          },
          "metadata": {},
          "execution_count": 25
        }
      ]
    },
    {
      "cell_type": "code",
      "source": [
        "mapped_df['Comp_Count'] = mapped_df.groupby([\"Company name\"])['ICIS-ID'].transform(\"count\")"
      ],
      "metadata": {
        "id": "KFermwxfm5PR"
      },
      "execution_count": 26,
      "outputs": []
    },
    {
      "cell_type": "markdown",
      "source": [
        "Getting a simple df with count and money"
      ],
      "metadata": {
        "id": "OjY-zTJgqVdG"
      }
    },
    {
      "cell_type": "code",
      "source": [
        "count_df = mapped_df[['Installation name', 'Comp_Count']].copy()\n",
        "count_df.set_index('Installation name', inplace = True)"
      ],
      "metadata": {
        "id": "cQP_EOYaqYA1"
      },
      "execution_count": 27,
      "outputs": []
    },
    {
      "cell_type": "code",
      "source": [
        "count_df['AmountIn'] = amount_in\n",
        "count_df['AmountOut'] = amount_out\n",
        "count_df['Diff'] = (amount_in - amount_out) / (amount_in + amount_out)"
      ],
      "metadata": {
        "id": "voFlkEKZqqnn"
      },
      "execution_count": 28,
      "outputs": []
    },
    {
      "cell_type": "code",
      "source": [
        "count_df.sort_values(by = 'Comp_Count', ascending = False).dropna().head()"
      ],
      "metadata": {
        "colab": {
          "base_uri": "https://localhost:8080/",
          "height": 237
        },
        "id": "0MIrAFQeqzTr",
        "outputId": "d67de284-5f7f-44ed-a983-efb5a630367c"
      },
      "execution_count": 29,
      "outputs": [
        {
          "output_type": "execute_result",
          "data": {
            "text/plain": [
              "                                           Comp_Count   AmountIn  AmountOut  \\\n",
              "Installation name                                                             \n",
              "ENERSUD - Rennes                                259.0   240848.0   222123.0   \n",
              "Cofely Energía Martorell, SL                    259.0  1175774.0  1597011.0   \n",
              "ENERSOL                                         259.0  2802751.0  2911890.0   \n",
              "Shotton Combined Heat and Power Station         259.0  3705031.0  6724077.0   \n",
              "SETHELEC CENTRALE DE COGENERATION DE SETE       259.0   430605.0   432178.0   \n",
              "\n",
              "                                               Diff  \n",
              "Installation name                                    \n",
              "ENERSUD - Rennes                           0.040445  \n",
              "Cofely Energía Martorell, SL              -0.151918  \n",
              "ENERSOL                                   -0.019098  \n",
              "Shotton Combined Heat and Power Station   -0.289483  \n",
              "SETHELEC CENTRALE DE COGENERATION DE SETE -0.001823  "
            ],
            "text/html": [
              "\n",
              "  <div id=\"df-26775077-d7b1-4155-b13d-b05e9674c9a6\">\n",
              "    <div class=\"colab-df-container\">\n",
              "      <div>\n",
              "<style scoped>\n",
              "    .dataframe tbody tr th:only-of-type {\n",
              "        vertical-align: middle;\n",
              "    }\n",
              "\n",
              "    .dataframe tbody tr th {\n",
              "        vertical-align: top;\n",
              "    }\n",
              "\n",
              "    .dataframe thead th {\n",
              "        text-align: right;\n",
              "    }\n",
              "</style>\n",
              "<table border=\"1\" class=\"dataframe\">\n",
              "  <thead>\n",
              "    <tr style=\"text-align: right;\">\n",
              "      <th></th>\n",
              "      <th>Comp_Count</th>\n",
              "      <th>AmountIn</th>\n",
              "      <th>AmountOut</th>\n",
              "      <th>Diff</th>\n",
              "    </tr>\n",
              "    <tr>\n",
              "      <th>Installation name</th>\n",
              "      <th></th>\n",
              "      <th></th>\n",
              "      <th></th>\n",
              "      <th></th>\n",
              "    </tr>\n",
              "  </thead>\n",
              "  <tbody>\n",
              "    <tr>\n",
              "      <th>ENERSUD - Rennes</th>\n",
              "      <td>259.0</td>\n",
              "      <td>240848.0</td>\n",
              "      <td>222123.0</td>\n",
              "      <td>0.040445</td>\n",
              "    </tr>\n",
              "    <tr>\n",
              "      <th>Cofely Energía Martorell, SL</th>\n",
              "      <td>259.0</td>\n",
              "      <td>1175774.0</td>\n",
              "      <td>1597011.0</td>\n",
              "      <td>-0.151918</td>\n",
              "    </tr>\n",
              "    <tr>\n",
              "      <th>ENERSOL</th>\n",
              "      <td>259.0</td>\n",
              "      <td>2802751.0</td>\n",
              "      <td>2911890.0</td>\n",
              "      <td>-0.019098</td>\n",
              "    </tr>\n",
              "    <tr>\n",
              "      <th>Shotton Combined Heat and Power Station</th>\n",
              "      <td>259.0</td>\n",
              "      <td>3705031.0</td>\n",
              "      <td>6724077.0</td>\n",
              "      <td>-0.289483</td>\n",
              "    </tr>\n",
              "    <tr>\n",
              "      <th>SETHELEC CENTRALE DE COGENERATION DE SETE</th>\n",
              "      <td>259.0</td>\n",
              "      <td>430605.0</td>\n",
              "      <td>432178.0</td>\n",
              "      <td>-0.001823</td>\n",
              "    </tr>\n",
              "  </tbody>\n",
              "</table>\n",
              "</div>\n",
              "      <button class=\"colab-df-convert\" onclick=\"convertToInteractive('df-26775077-d7b1-4155-b13d-b05e9674c9a6')\"\n",
              "              title=\"Convert this dataframe to an interactive table.\"\n",
              "              style=\"display:none;\">\n",
              "        \n",
              "  <svg xmlns=\"http://www.w3.org/2000/svg\" height=\"24px\"viewBox=\"0 0 24 24\"\n",
              "       width=\"24px\">\n",
              "    <path d=\"M0 0h24v24H0V0z\" fill=\"none\"/>\n",
              "    <path d=\"M18.56 5.44l.94 2.06.94-2.06 2.06-.94-2.06-.94-.94-2.06-.94 2.06-2.06.94zm-11 1L8.5 8.5l.94-2.06 2.06-.94-2.06-.94L8.5 2.5l-.94 2.06-2.06.94zm10 10l.94 2.06.94-2.06 2.06-.94-2.06-.94-.94-2.06-.94 2.06-2.06.94z\"/><path d=\"M17.41 7.96l-1.37-1.37c-.4-.4-.92-.59-1.43-.59-.52 0-1.04.2-1.43.59L10.3 9.45l-7.72 7.72c-.78.78-.78 2.05 0 2.83L4 21.41c.39.39.9.59 1.41.59.51 0 1.02-.2 1.41-.59l7.78-7.78 2.81-2.81c.8-.78.8-2.07 0-2.86zM5.41 20L4 18.59l7.72-7.72 1.47 1.35L5.41 20z\"/>\n",
              "  </svg>\n",
              "      </button>\n",
              "      \n",
              "  <style>\n",
              "    .colab-df-container {\n",
              "      display:flex;\n",
              "      flex-wrap:wrap;\n",
              "      gap: 12px;\n",
              "    }\n",
              "\n",
              "    .colab-df-convert {\n",
              "      background-color: #E8F0FE;\n",
              "      border: none;\n",
              "      border-radius: 50%;\n",
              "      cursor: pointer;\n",
              "      display: none;\n",
              "      fill: #1967D2;\n",
              "      height: 32px;\n",
              "      padding: 0 0 0 0;\n",
              "      width: 32px;\n",
              "    }\n",
              "\n",
              "    .colab-df-convert:hover {\n",
              "      background-color: #E2EBFA;\n",
              "      box-shadow: 0px 1px 2px rgba(60, 64, 67, 0.3), 0px 1px 3px 1px rgba(60, 64, 67, 0.15);\n",
              "      fill: #174EA6;\n",
              "    }\n",
              "\n",
              "    [theme=dark] .colab-df-convert {\n",
              "      background-color: #3B4455;\n",
              "      fill: #D2E3FC;\n",
              "    }\n",
              "\n",
              "    [theme=dark] .colab-df-convert:hover {\n",
              "      background-color: #434B5C;\n",
              "      box-shadow: 0px 1px 3px 1px rgba(0, 0, 0, 0.15);\n",
              "      filter: drop-shadow(0px 1px 2px rgba(0, 0, 0, 0.3));\n",
              "      fill: #FFFFFF;\n",
              "    }\n",
              "  </style>\n",
              "\n",
              "      <script>\n",
              "        const buttonEl =\n",
              "          document.querySelector('#df-26775077-d7b1-4155-b13d-b05e9674c9a6 button.colab-df-convert');\n",
              "        buttonEl.style.display =\n",
              "          google.colab.kernel.accessAllowed ? 'block' : 'none';\n",
              "\n",
              "        async function convertToInteractive(key) {\n",
              "          const element = document.querySelector('#df-26775077-d7b1-4155-b13d-b05e9674c9a6');\n",
              "          const dataTable =\n",
              "            await google.colab.kernel.invokeFunction('convertToInteractive',\n",
              "                                                     [key], {});\n",
              "          if (!dataTable) return;\n",
              "\n",
              "          const docLinkHtml = 'Like what you see? Visit the ' +\n",
              "            '<a target=\"_blank\" href=https://colab.research.google.com/notebooks/data_table.ipynb>data table notebook</a>'\n",
              "            + ' to learn more about interactive tables.';\n",
              "          element.innerHTML = '';\n",
              "          dataTable['output_type'] = 'display_data';\n",
              "          await google.colab.output.renderOutput(dataTable, element);\n",
              "          const docLink = document.createElement('div');\n",
              "          docLink.innerHTML = docLinkHtml;\n",
              "          element.appendChild(docLink);\n",
              "        }\n",
              "      </script>\n",
              "    </div>\n",
              "  </div>\n",
              "  "
            ]
          },
          "metadata": {},
          "execution_count": 29
        }
      ]
    },
    {
      "cell_type": "code",
      "source": [
        "count_df.plot(kind = 'scatter', x = 'Comp_Count', y = 'Diff')"
      ],
      "metadata": {
        "colab": {
          "base_uri": "https://localhost:8080/",
          "height": 322
        },
        "id": "-czNRXlzrZUf",
        "outputId": "d57c6a64-77ae-4829-e385-081c002dabab"
      },
      "execution_count": 30,
      "outputs": [
        {
          "output_type": "execute_result",
          "data": {
            "text/plain": [
              "<matplotlib.axes._subplots.AxesSubplot at 0x7fc216644a10>"
            ]
          },
          "metadata": {},
          "execution_count": 30
        },
        {
          "output_type": "display_data",
          "data": {
            "text/plain": [
              "<Figure size 432x288 with 1 Axes>"
            ],
            "image/png": "[encoded data removed]"
          },
          "metadata": {}
        }
      ]
    },
    {
      "cell_type": "code",
      "source": [
        "sns.displot(count_df[count_df['Comp_Count'] < 10]['Diff'], kind=\"kde\")\n",
        "sns.displot(count_df[(count_df['Comp_Count'] < 100) & (count_df['Comp_Count'] >= 10)]['Diff'], kind=\"kde\")\n",
        "sns.displot(count_df[count_df['Comp_Count'] >= 100]['Diff'], kind=\"kde\")"
      ],
      "metadata": {
        "colab": {
          "base_uri": "https://localhost:8080/",
          "height": 1000
        },
        "id": "XfgOwzS0r52M",
        "outputId": "2607bebb-ca17-4c2a-c8da-49c8380ac8f1"
      },
      "execution_count": 49,
      "outputs": [
        {
          "output_type": "execute_result",
          "data": {
            "text/plain": [
              "<seaborn.axisgrid.FacetGrid at 0x7fc20c8eca90>"
            ]
          },
          "metadata": {},
          "execution_count": 49
        },
        {
          "output_type": "display_data",
          "data": {
            "text/plain": [
              "<Figure size 360x360 with 1 Axes>"
            ],
            "image/png": "[encoded data removed]"
          },
          "metadata": {}
        },
        {
          "output_type": "display_data",
          "data": {
            "text/plain": [
              "<Figure size 360x360 with 1 Axes>"
            ],
            "image/png": "[encoded data removed]"
          },
          "metadata": {}
        },
        {
          "output_type": "display_data",
          "data": {
            "text/plain": [
              "<Figure size 360x360 with 1 Axes>"
            ],
            "image/png": "[encoded data removed]"
          },
          "metadata": {}
        }
      ]
    },
    {
      "cell_type": "code",
      "source": [
        "count_df[count_df['Comp_Count'] < 10]['Diff'].skew()"
      ],
      "metadata": {
        "id": "a94ll-wJu0fv",
        "outputId": "af9ee3d8-3755-4323-91b0-1100fb58935c",
        "colab": {
          "base_uri": "https://localhost:8080/"
        }
      },
      "execution_count": 43,
      "outputs": [
        {
          "output_type": "execute_result",
          "data": {
            "text/plain": [
              "-0.13560298827901857"
            ]
          },
          "metadata": {},
          "execution_count": 43
        }
      ]
    },
    {
      "cell_type": "code",
      "source": [
        "count_df[(count_df['Comp_Count'] < 100) & (count_df['Comp_Count'] >= 10)]['Diff'].skew()"
      ],
      "metadata": {
        "id": "nqBl_MXnx6pu",
        "outputId": "f4fabb2d-6343-4b32-f94a-192449583d7c",
        "colab": {
          "base_uri": "https://localhost:8080/"
        }
      },
      "execution_count": 48,
      "outputs": [
        {
          "output_type": "execute_result",
          "data": {
            "text/plain": [
              "-0.006885635342326596"
            ]
          },
          "metadata": {},
          "execution_count": 48
        }
      ]
    },
    {
      "cell_type": "code",
      "source": [
        "count_df[count_df['Comp_Count'] >= 100]['Diff'].skew()"
      ],
      "metadata": {
        "id": "XUsCwCBCx_Hr",
        "outputId": "e8fc3df1-4bd1-47f9-dfca-9f339eb353ed",
        "colab": {
          "base_uri": "https://localhost:8080/"
        }
      },
      "execution_count": 47,
      "outputs": [
        {
          "output_type": "execute_result",
          "data": {
            "text/plain": [
              "0.356287428702193"
            ]
          },
          "metadata": {},
          "execution_count": 47
        }
      ]
    },
    {
      "cell_type": "code",
      "source": [
        ""
      ],
      "metadata": {
        "id": "hFdjco4yyBfz"
      },
      "execution_count": null,
      "outputs": []
    }
  ]
}